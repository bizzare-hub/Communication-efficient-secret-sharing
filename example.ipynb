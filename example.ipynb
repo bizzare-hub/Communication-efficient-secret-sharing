{
 "cells": [
  {
   "cell_type": "code",
   "execution_count": 1,
   "metadata": {},
   "outputs": [],
   "source": [
    "import time\n",
    "import numpy as np\n",
    "\n",
    "from shamir import ShamirSecretScheme\n",
    "from efficient import CommunicationEfficientScheme"
   ]
  },
  {
   "cell_type": "markdown",
   "metadata": {},
   "source": [
    "### Shamir secret scheme"
   ]
  },
  {
   "cell_type": "code",
   "execution_count": 2,
   "metadata": {},
   "outputs": [],
   "source": [
    "# initialize the parameters\n",
    "\n",
    "n, r, p = 7, 4, 11\n",
    "m = [1, 5, 4, 3, 2, 1]  # message (suppose already splitted into symbols over field Fp)"
   ]
  },
  {
   "cell_type": "code",
   "execution_count": 3,
   "metadata": {},
   "outputs": [
    {
     "name": "stderr",
     "output_type": "stream",
     "text": [
      "OMP: Info #270: omp_set_nested routine deprecated, please use omp_set_max_active_levels instead.\n"
     ]
    }
   ],
   "source": [
    "# initialize object class, construct polynomials and distributed shares between parties\n",
    "\n",
    "sss = ShamirSecretScheme(m, n, r, p)\n",
    "sss.encode()"
   ]
  },
  {
   "cell_type": "code",
   "execution_count": 4,
   "metadata": {},
   "outputs": [
    {
     "data": {
      "text/plain": [
       "[Poly(x^2 + 5x + 4, GF(11)), Poly(3x^2 + 2x + 1, GF(11))]"
      ]
     },
     "execution_count": 4,
     "metadata": {},
     "output_type": "execute_result"
    }
   ],
   "source": [
    "# look at constructed polynomials\n",
    "\n",
    "sss._polynoms"
   ]
  },
  {
   "cell_type": "code",
   "execution_count": 5,
   "metadata": {},
   "outputs": [
    {
     "name": "stdout",
     "output_type": "stream",
     "text": [
      "Initial message: [1, 5, 4, 3, 2, 1]\n",
      "Decoding message by taking shares from parties: [4, 3, 1, 6]\n",
      "Decoded message: [1, 5, 4, 3, 2, 1]\n"
     ]
    }
   ],
   "source": [
    "# decode initial message from any r parties (can also take > r)\n",
    "\n",
    "parties_indices = list(np.random.choice(list(range(n)), replace=False, size=r))\n",
    "\n",
    "print(f\"Initial message: {m}\")\n",
    "print(f\"Decoding message by taking shares from parties: {parties_indices}\")\n",
    "print(f\"Decoded message: {sss.decode(parties_indices)}\")"
   ]
  },
  {
   "cell_type": "markdown",
   "metadata": {},
   "source": [
    "### Communication efficient scheme"
   ]
  },
  {
   "cell_type": "code",
   "execution_count": 6,
   "metadata": {},
   "outputs": [],
   "source": [
    "# initialize the parameters\n",
    "\n",
    "n, r, p = 7, 5, 11\n",
    "d = 3\n",
    "\n",
    "m = list(range(1, d * (n - r) + 1))  # message (suppose already splitted into symbols over field Fp)"
   ]
  },
  {
   "cell_type": "code",
   "execution_count": 7,
   "metadata": {},
   "outputs": [],
   "source": [
    "# initialize object class, construct polynomials and distributed shares between parties\n",
    "\n",
    "ces = CommunicationEfficientScheme(m, n, r, p, d)\n",
    "ces.encode()"
   ]
  },
  {
   "cell_type": "code",
   "execution_count": 8,
   "metadata": {},
   "outputs": [
    {
     "data": {
      "text/plain": [
       "[Poly(6x^5 + 5x^4 + 4x^3 + 3x^2 + 2x + 1, GF(11)),\n",
       " Poly(6x^2 + 5x + 4, GF(11)),\n",
       " Poly(6x + 3, GF(11))]"
      ]
     },
     "execution_count": 8,
     "metadata": {},
     "output_type": "execute_result"
    }
   ],
   "source": [
    "# look at constructed polynomials\n",
    "\n",
    "ces._polynoms"
   ]
  },
  {
   "cell_type": "code",
   "execution_count": 9,
   "metadata": {},
   "outputs": [
    {
     "name": "stdout",
     "output_type": "stream",
     "text": [
      "Initial message: [1, 2, 3, 4, 5, 6]\n",
      "Decoded for any 2 parties: [1, 2, 3, 4, 5, 6]\n",
      "Decoded for any 3 parties: [1, 2, 3, 4, 5, 6]\n",
      "Decoded for all 6 parties: [1, 2, 3, 4, 5, 6]\n"
     ]
    }
   ],
   "source": [
    "# decode initial message from any d set of parties (2, 3 or 6)\n",
    "\n",
    "print(f\"Initial message: {m}\")\n",
    "\n",
    "print(f\"Decoded for any 2 parties: {ces.decode([0, 4])}\")\n",
    "print(f\"Decoded for any 3 parties: {ces.decode([0, 3, 5])}\")\n",
    "print(f\"Decoded for all 6 parties: {ces.decode([0, 1, 2, 3, 4, 5])}\")"
   ]
  },
  {
   "cell_type": "code",
   "execution_count": null,
   "metadata": {},
   "outputs": [],
   "source": []
  }
 ],
 "metadata": {
  "kernelspec": {
   "display_name": "Python 3.8.16 ('blockchain')",
   "language": "python",
   "name": "python3"
  },
  "language_info": {
   "codemirror_mode": {
    "name": "ipython",
    "version": 3
   },
   "file_extension": ".py",
   "mimetype": "text/x-python",
   "name": "python",
   "nbconvert_exporter": "python",
   "pygments_lexer": "ipython3",
   "version": "3.8.16"
  },
  "orig_nbformat": 4,
  "vscode": {
   "interpreter": {
    "hash": "1a6fd18309e27692e54c001435a63659cdb618a3f23a7eddfa24cdbd38c40382"
   }
  }
 },
 "nbformat": 4,
 "nbformat_minor": 2
}
